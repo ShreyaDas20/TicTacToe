{
 "cells": [
  {
   "cell_type": "markdown",
   "id": "accf6155",
   "metadata": {},
   "source": [
    "# Function to create and print the board"
   ]
  },
  {
   "cell_type": "code",
   "execution_count": 55,
   "id": "b4ba7d8a",
   "metadata": {},
   "outputs": [],
   "source": [
    "def ConstructBoard(board):\n",
    "    print(\"Current State Of Board : \\n\\n\");\n",
    "    for i in range (0,9):\n",
    "        if((i>0) and (i%3)==0):\n",
    "            print(\"\\n\");\n",
    "        if(board[i]==0):\n",
    "            print(\"- \",end=\" \");\n",
    "        if (board[i]==1):\n",
    "            print(\"O \",end=\" \");\n",
    "        if(board[i]==-1):    \n",
    "            print(\"X \",end=\" \");\n",
    "    print(\"\\n\\n\");"
   ]
  },
  {
   "cell_type": "markdown",
   "id": "43d4c7a5",
   "metadata": {},
   "source": [
    "# Function to take 'X' and 'O' as user input and print on board"
   ]
  },
  {
   "cell_type": "code",
   "execution_count": 56,
   "id": "9487072b",
   "metadata": {},
   "outputs": [],
   "source": [
    "def User1Turn(board):\n",
    "    pos=input(\"Enter X's position from [1...9]: \");\n",
    "    pos=int(pos);\n",
    "    if(board[pos-1]!=0):\n",
    "        print(\"Wrong Move!!!\");\n",
    "        exit(0) ;\n",
    "    board[pos-1]=-1;\n",
    "\n",
    "def User2Turn(board):\n",
    "    pos=input(\"Enter O's position from [1...9]: \");\n",
    "    pos=int(pos);\n",
    "    if(board[pos-1]!=0):\n",
    "        print(\"Wrong Move!!!\");\n",
    "        exit(0);\n",
    "    board[pos-1]=1;"
   ]
  },
  {
   "cell_type": "markdown",
   "id": "e0142ae7",
   "metadata": {},
   "source": [
    "# Implementing minimax algo"
   ]
  },
  {
   "cell_type": "code",
   "execution_count": 57,
   "id": "ca27bf8c",
   "metadata": {},
   "outputs": [],
   "source": [
    "def minimax(board,player):\n",
    "    x=analyzeboard(board);\n",
    "    if(x!=0):\n",
    "        return (x*player);\n",
    "    pos=-1;\n",
    "    value=-2;\n",
    "    for i in range(0,9):\n",
    "        if(board[i]==0):\n",
    "            board[i]=player;\n",
    "            score=-minimax(board,(player*-1));\n",
    "            if(score>value):\n",
    "                value=score;\n",
    "                pos=i;\n",
    "            board[i]=0;\n",
    "\n",
    "    if(pos==-1):\n",
    "        return 0;\n",
    "    return value;"
   ]
  },
  {
   "cell_type": "markdown",
   "id": "cf7c366e",
   "metadata": {},
   "source": [
    "# Function to make computer's turn"
   ]
  },
  {
   "cell_type": "code",
   "execution_count": 58,
   "id": "74dde9f5",
   "metadata": {},
   "outputs": [],
   "source": [
    "def CompTurn(board):\n",
    "    pos=-1;\n",
    "    value=-2;\n",
    "    for i in range(0,9):\n",
    "        if(board[i]==0):\n",
    "            board[i]=1;\n",
    "            score=-minimax(board, -1);\n",
    "            board[i]=0;\n",
    "            if(score>value):\n",
    "                value=score;\n",
    "                pos=i;\n",
    " \n",
    "    board[pos]=1;"
   ]
  },
  {
   "cell_type": "markdown",
   "id": "85aed3e3",
   "metadata": {},
   "source": [
    "# Function to analyse the Game "
   ]
  },
  {
   "cell_type": "code",
   "execution_count": 59,
   "id": "4276dc2a",
   "metadata": {},
   "outputs": [],
   "source": [
    "def analyzeboard(board):\n",
    "    cb=[[0,1,2],[3,4,5],[6,7,8],[0,3,6],[1,4,7],[2,5,8],[0,4,8],[2,4,6]];\n",
    "\n",
    "    for i in range(0,8):\n",
    "        if(board[cb[i][0]] != 0 and\n",
    "           board[cb[i][0]] == board[cb[i][1]] and\n",
    "           board[cb[i][0]] == board[cb[i][2]]):\n",
    "            return board[cb[i][2]];\n",
    "    return 0;"
   ]
  },
  {
   "cell_type": "markdown",
   "id": "09c5fc23",
   "metadata": {},
   "source": [
    "# main function  "
   ]
  },
  {
   "cell_type": "code",
   "execution_count": 60,
   "id": "cd9b2103",
   "metadata": {},
   "outputs": [
    {
     "name": "stdout",
     "output_type": "stream",
     "text": [
      "Enter 1 for single player, 2 for multiplayer: 2\n",
      "Current State Of Board : \n",
      "\n",
      "\n",
      "-  -  -  \n",
      "\n",
      "-  -  -  \n",
      "\n",
      "-  -  -  \n",
      "\n",
      "\n",
      "Enter X's position from [1...9]: 1\n",
      "Current State Of Board : \n",
      "\n",
      "\n",
      "X  -  -  \n",
      "\n",
      "-  -  -  \n",
      "\n",
      "-  -  -  \n",
      "\n",
      "\n",
      "Enter O's position from [1...9]: 5\n",
      "Current State Of Board : \n",
      "\n",
      "\n",
      "X  -  -  \n",
      "\n",
      "-  O  -  \n",
      "\n",
      "-  -  -  \n",
      "\n",
      "\n",
      "Enter X's position from [1...9]: 9\n",
      "Current State Of Board : \n",
      "\n",
      "\n",
      "X  -  -  \n",
      "\n",
      "-  O  -  \n",
      "\n",
      "-  -  X  \n",
      "\n",
      "\n",
      "Enter O's position from [1...9]: 7\n",
      "Current State Of Board : \n",
      "\n",
      "\n",
      "X  -  -  \n",
      "\n",
      "-  O  -  \n",
      "\n",
      "O  -  X  \n",
      "\n",
      "\n",
      "Enter X's position from [1...9]: 3\n",
      "Current State Of Board : \n",
      "\n",
      "\n",
      "X  -  X  \n",
      "\n",
      "-  O  -  \n",
      "\n",
      "O  -  X  \n",
      "\n",
      "\n",
      "Enter O's position from [1...9]: 4\n",
      "Current State Of Board : \n",
      "\n",
      "\n",
      "X  -  X  \n",
      "\n",
      "O  O  -  \n",
      "\n",
      "O  -  X  \n",
      "\n",
      "\n",
      "Enter X's position from [1...9]: 2\n",
      "Current State Of Board : \n",
      "\n",
      "\n",
      "X  X  X  \n",
      "\n",
      "O  O  -  \n",
      "\n",
      "O  -  X  \n",
      "\n",
      "\n",
      "X Wins! O Loose !\n"
     ]
    }
   ],
   "source": [
    "def main():\n",
    "    choice=input(\"Enter 1 for single player, 2 for multiplayer: \");\n",
    "    choice=int(choice);\n",
    "    #The broad is considered in the form of a single dimentional array.\n",
    "    #One player moves 1 and other move -1.\n",
    "    board=[0,0,0,0,0,0,0,0,0];\n",
    "    if(choice==1):\n",
    "        print(\"Computer : O Vs. You : X\");\n",
    "        player= input(\"Enter to play 1(st) or 2(nd) :\");\n",
    "        player = int(player);\n",
    "        for i in range (0,9):\n",
    "            if(analyzeboard(board)!=0):\n",
    "                break;\n",
    "            if((i+player)%2==0):\n",
    "                CompTurn(board);\n",
    "            else:\n",
    "                ConstBoard(board);\n",
    "                User1Turn(board);\n",
    "    else:\n",
    "        for i in range (0,9):\n",
    "            if(analyzeboard(board)!=0):\n",
    "                break;\n",
    "            if((i)%2==0):\n",
    "                ConstBoard(board);\n",
    "                User1Turn(board);\n",
    "            else:\n",
    "                ConstBoard(board);\n",
    "                User2Turn(board);\n",
    "         \n",
    "\n",
    "    x=analyzeboard(board);\n",
    "    if(x==0):\n",
    "         ConstBoard(board);\n",
    "         print(\"Draw!!!\")\n",
    "    if(x==-1):\n",
    "         ConstBoard(board);\n",
    "         print(\"X Wins! O Loose !\")\n",
    "    if(x==1):\n",
    "         ConstBoard(board);\n",
    "         print(\"X Loose! O Wins !\")\n",
    "       \n",
    "#---------------#\n",
    "main()\n",
    "#---------------#"
   ]
  },
  {
   "cell_type": "code",
   "execution_count": null,
   "id": "b858df8b",
   "metadata": {},
   "outputs": [],
   "source": []
  }
 ],
 "metadata": {
  "kernelspec": {
   "display_name": "Python 3 (ipykernel)",
   "language": "python",
   "name": "python3"
  },
  "language_info": {
   "codemirror_mode": {
    "name": "ipython",
    "version": 3
   },
   "file_extension": ".py",
   "mimetype": "text/x-python",
   "name": "python",
   "nbconvert_exporter": "python",
   "pygments_lexer": "ipython3",
   "version": "3.10.9"
  }
 },
 "nbformat": 4,
 "nbformat_minor": 5
}
